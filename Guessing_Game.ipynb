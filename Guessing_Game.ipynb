{
  "nbformat": 4,
  "nbformat_minor": 0,
  "metadata": {
    "colab": {
      "provenance": [],
      "authorship_tag": "ABX9TyPI+G29GEg46sgLgRTJd4op",
      "include_colab_link": true
    },
    "kernelspec": {
      "name": "python3",
      "display_name": "Python 3"
    },
    "language_info": {
      "name": "python"
    }
  },
  "cells": [
    {
      "cell_type": "markdown",
      "metadata": {
        "id": "view-in-github",
        "colab_type": "text"
      },
      "source": [
        "<a href=\"https://colab.research.google.com/github/themanoftalent/Python-3-Training/blob/master/Guessing_Game.ipynb\" target=\"_parent\"><img src=\"https://colab.research.google.com/assets/colab-badge.svg\" alt=\"Open In Colab\"/></a>"
      ]
    },
    {
      "cell_type": "code",
      "execution_count": null,
      "metadata": {
        "colab": {
          "base_uri": "https://localhost:8080/"
        },
        "id": "7xeXmKBW7B8d",
        "outputId": "57054ed1-a1ba-4eb8-ea30-1591da66631a"
      },
      "outputs": [
        {
          "output_type": "stream",
          "name": "stdout",
          "text": [
            "Enter your guess = sadas\n",
            "Only Caharacters are alowed.\n",
            "Enter your guess = 3234\n",
            "Incorrect guess\n",
            "Enter your guess = 156\n",
            "Well, you won\n"
          ]
        }
      ],
      "source": [
        "secret_number = 156\n",
        "count=0\n",
        "while count < 3:\n",
        "  try:\n",
        "    guess = int(input(\"Enter your guess = \"))\n",
        "    count = + 1\n",
        "\n",
        "  except ValueError:\n",
        "    print(\"Only Caharacters are alowed.\")\n",
        "  else:\n",
        "    \n",
        "    if guess == secret_number:\n",
        "      print(\"Well, you won\")\n",
        "      break\n",
        "    else:\n",
        "      print(\"Incorrect guess\")\n",
        "else:\n",
        "  print(\"Failed\")"
      ]
    },
    {
      "cell_type": "markdown",
      "source": [
        "Enter only numbers"
      ],
      "metadata": {
        "id": "_qps3E9r8eFU"
      }
    },
    {
      "cell_type": "code",
      "source": [],
      "metadata": {
        "colab": {
          "base_uri": "https://localhost:8080/"
        },
        "id": "CCZQikV68GqN",
        "outputId": "03bd5b29-8f4c-44a7-de79-cbf50d5d229e"
      },
      "execution_count": null,
      "outputs": [
        {
          "output_type": "stream",
          "name": "stdout",
          "text": [
            " Enter some numbers (Only numbers)sadsadf\n",
            "Only characters are allowed\n",
            "123\n"
          ]
        }
      ]
    },
    {
      "cell_type": "code",
      "source": [
        "# without while\n",
        "try:\n",
        "  numbered= int(input(\" Enter some numbers (Only numbers)\"))\n",
        "  \n",
        "except ValueError:\n",
        "  print(\"Only numbers are allowed\")\n",
        "  \n",
        "print(numbered)"
      ],
      "metadata": {
        "colab": {
          "base_uri": "https://localhost:8080/"
        },
        "id": "R9qJRs6O8yOD",
        "outputId": "ed721fb7-c2c2-45dc-8907-6a0ba11353cb"
      },
      "execution_count": null,
      "outputs": [
        {
          "output_type": "stream",
          "name": "stdout",
          "text": [
            " Enter some numbers (Only numbers)123\n",
            "123\n"
          ]
        }
      ]
    },
    {
      "cell_type": "code",
      "source": [
        "while True:\n",
        "  try:\n",
        "    integer_number = int(input(\"Enter only numbers = \"))\n",
        "    break\n",
        "  except ValueError:\n",
        "    print(\"Only numbers are allowed\")\n",
        "    continue\n",
        "  print(integer_number)"
      ],
      "metadata": {
        "colab": {
          "base_uri": "https://localhost:8080/"
        },
        "id": "4jzWdTLY9Ff2",
        "outputId": "edb5f223-6543-4274-9fda-262ed501afd4"
      },
      "execution_count": null,
      "outputs": [
        {
          "name": "stdout",
          "output_type": "stream",
          "text": [
            "Enter only numbers = sfakfas\n",
            "Only numbers are allowed\n",
            "Enter only numbers = 123\n"
          ]
        }
      ]
    },
    {
      "cell_type": "code",
      "source": [
        "secret_char='akif'\n",
        "count=0\n",
        "while count <5:\n",
        "  try:\n",
        "    guess = input(\"Enter your guess = \")\n",
        "    if not guess.isalpha():\n",
        "      print(\"Only characters\")\n",
        "      continue\n",
        "  except ValueError:\n",
        "    print(\"Characters\")\n",
        "  else:\n",
        "    if guess == 'akif':\n",
        "      print('Correct')\n",
        "      break\n",
        "    elif guess == 'Akif' or guess == 'AKIF':\n",
        "      print('Correct guess')\n",
        "      break\n",
        "    else:\n",
        "      print('try again')\n",
        "else:\n",
        "  print('failed')\n",
        "\n",
        "\n",
        "\n",
        "\n"
      ],
      "metadata": {
        "colab": {
          "base_uri": "https://localhost:8080/"
        },
        "id": "BUf1bmK7-GXt",
        "outputId": "966d1fef-25e8-4098-a135-1fc293d552d7"
      },
      "execution_count": null,
      "outputs": [
        {
          "output_type": "stream",
          "name": "stdout",
          "text": [
            "Enter your guess = 12321412\n",
            "Only characters\n",
            "Enter your guess = AKIF\n",
            "Correct guess\n"
          ]
        }
      ]
    },
    {
      "cell_type": "code",
      "source": [
        "kontur = 0\n",
        "gizli_numatra = 9\n",
        "\n",
        "while kontur < 3:\n",
        "  try:    \n",
        "    tahmin = int(input(\"Sayi gir = \"))\n",
        "    kontur= kontur +1\n",
        "  except ValueError:\n",
        "    print('Sadece sayi giriniz. ')\n",
        "\n",
        "  else:\n",
        "    if tahmin == gizli_numatra:\n",
        "      print('Dogru Tahmin')\n",
        "      break\n",
        "    else:\n",
        "      print('Yanllis Tahmin')\n",
        "\n",
        "else: \n",
        "  print('Basarisiz. Oyun bitti.')\n"
      ],
      "metadata": {
        "colab": {
          "base_uri": "https://localhost:8080/"
        },
        "id": "2MqUAHsad2uC",
        "outputId": "d5de4085-5084-4d2b-eaf7-3d0e8691bd50"
      },
      "execution_count": 41,
      "outputs": [
        {
          "output_type": "stream",
          "name": "stdout",
          "text": [
            "Sayi gir = sfs\n",
            "Sadece sayi giriniz. \n",
            "Sayi gir = 5\n",
            "Yanllis Tahmin\n",
            "Sayi gir = 9\n",
            "Dogru Tahmin\n"
          ]
        }
      ]
    }
  ]
}