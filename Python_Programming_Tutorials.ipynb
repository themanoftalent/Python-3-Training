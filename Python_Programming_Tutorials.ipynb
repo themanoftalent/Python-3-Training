{
  "nbformat": 4,
  "nbformat_minor": 0,
  "metadata": {
    "colab": {
      "provenance": [],
      "authorship_tag": "ABX9TyNL4Ov+FdcMYDNDttqDC1QN",
      "include_colab_link": true
    },
    "kernelspec": {
      "name": "python3",
      "display_name": "Python 3"
    },
    "language_info": {
      "name": "python"
    }
  },
  "cells": [
    {
      "cell_type": "markdown",
      "metadata": {
        "id": "view-in-github",
        "colab_type": "text"
      },
      "source": [
        "<a href=\"https://colab.research.google.com/github/themanoftalent/Python-3-Training/blob/master/Python_Programming_Tutorials.ipynb\" target=\"_parent\"><img src=\"https://colab.research.google.com/assets/colab-badge.svg\" alt=\"Open In Colab\"/></a>"
      ]
    },
    {
      "cell_type": "code",
      "execution_count": 1,
      "metadata": {
        "colab": {
          "base_uri": "https://localhost:8080/"
        },
        "id": "RFjorpfxn4jf",
        "outputId": "0d3e4c08-ca4a-4c81-a0db-846f713bff89"
      },
      "outputs": [
        {
          "output_type": "stream",
          "name": "stdout",
          "text": [
            "Hello world!\n"
          ]
        }
      ],
      "source": [
        "print(\"Hello world!\")"
      ]
    },
    {
      "cell_type": "markdown",
      "source": [
        "Introduction to Strings"
      ],
      "metadata": {
        "id": "iqnJcKLCoMSt"
      }
    },
    {
      "cell_type": "code",
      "source": [
        "message=\"Meet me now.\"\n",
        "print(message)"
      ],
      "metadata": {
        "colab": {
          "base_uri": "https://localhost:8080/"
        },
        "id": "VK3--j-ToCOP",
        "outputId": "18358201-e877-4097-907d-d8cee27d6b4b"
      },
      "execution_count": 3,
      "outputs": [
        {
          "output_type": "stream",
          "name": "stdout",
          "text": [
            "Meet me now.\n"
          ]
        }
      ]
    },
    {
      "cell_type": "code",
      "source": [
        "print(\"I'am John Swift\")"
      ],
      "metadata": {
        "colab": {
          "base_uri": "https://localhost:8080/"
        },
        "id": "tc4Lck56oTpI",
        "outputId": "b9a73f19-7dce-4125-c97d-196947c6aabd"
      },
      "execution_count": 4,
      "outputs": [
        {
          "output_type": "stream",
          "name": "stdout",
          "text": [
            "I'am John Swift\n"
          ]
        }
      ]
    },
    {
      "cell_type": "code",
      "source": [
        "print('I \\'m Jack Daniels.\\nI\\'m looking for someone named Alison')\n",
        "#or\n",
        "print('Jack said \"Beam me up man\" ')"
      ],
      "metadata": {
        "colab": {
          "base_uri": "https://localhost:8080/"
        },
        "id": "d2aiRbndockW",
        "outputId": "24af3172-a36c-4659-c785-4d307b31427d"
      },
      "execution_count": 9,
      "outputs": [
        {
          "output_type": "stream",
          "name": "stdout",
          "text": [
            "I 'm Jack Daniels.\n",
            "I'm looking for someone named Alison\n",
            "Jack said \"Beam me up man\" \n"
          ]
        }
      ]
    },
    {
      "cell_type": "markdown",
      "source": [
        "NUMBERS <br>\n",
        "types int float complex"
      ],
      "metadata": {
        "id": "KcE65Htwqvz2"
      }
    },
    {
      "cell_type": "code",
      "source": [
        "a=4"
      ],
      "metadata": {
        "id": "gsATDj39oiBp"
      },
      "execution_count": 11,
      "outputs": []
    },
    {
      "cell_type": "code",
      "source": [
        "type(a)"
      ],
      "metadata": {
        "colab": {
          "base_uri": "https://localhost:8080/"
        },
        "id": "4Muhs7phq1Hq",
        "outputId": "de00aa33-924a-4836-8fb3-c16754b0dec4"
      },
      "execution_count": 12,
      "outputs": [
        {
          "output_type": "execute_result",
          "data": {
            "text/plain": [
              "int"
            ]
          },
          "metadata": {},
          "execution_count": 12
        }
      ]
    },
    {
      "cell_type": "code",
      "source": [
        "#float\n",
        "b=5.89"
      ],
      "metadata": {
        "id": "oK-bGpiLq4HF"
      },
      "execution_count": 13,
      "outputs": []
    },
    {
      "cell_type": "code",
      "source": [
        "type(b)"
      ],
      "metadata": {
        "colab": {
          "base_uri": "https://localhost:8080/"
        },
        "id": "lj3Bbsijq76i",
        "outputId": "50446d2a-a8f6-4410-a9a3-5683a3c48351"
      },
      "execution_count": 14,
      "outputs": [
        {
          "output_type": "execute_result",
          "data": {
            "text/plain": [
              "float"
            ]
          },
          "metadata": {},
          "execution_count": 14
        }
      ]
    },
    {
      "cell_type": "code",
      "source": [
        "# comlex\n",
        "komplx=456j\n",
        "print(komplx)\n",
        "# complex+float\n",
        "ac=1.735+0j\n",
        "print(ac)\n",
        "type(ac)\n",
        "# float+int\n",
        "1.50+2"
      ],
      "metadata": {
        "colab": {
          "base_uri": "https://localhost:8080/"
        },
        "id": "-H4Ma3mjq9Cy",
        "outputId": "3b61a7fe-c6e9-4e69-d216-9ae753a6aa22"
      },
      "execution_count": 33,
      "outputs": [
        {
          "output_type": "stream",
          "name": "stdout",
          "text": [
            "456j\n",
            "(1.735+0j)\n"
          ]
        },
        {
          "output_type": "execute_result",
          "data": {
            "text/plain": [
              "3.5"
            ]
          },
          "metadata": {},
          "execution_count": 33
        }
      ]
    },
    {
      "cell_type": "code",
      "source": [
        "type(komplx)\n",
        "# z.real j.comlex"
      ],
      "metadata": {
        "colab": {
          "base_uri": "https://localhost:8080/"
        },
        "id": "cgqaJ-vFrCxB",
        "outputId": "0968b027-9f9f-429c-b6fe-3d43ca9adc57"
      },
      "execution_count": 19,
      "outputs": [
        {
          "output_type": "execute_result",
          "data": {
            "text/plain": [
              "complex"
            ]
          },
          "metadata": {},
          "execution_count": 19
        }
      ]
    },
    {
      "cell_type": "markdown",
      "source": [
        "Arithmetic perators"
      ],
      "metadata": {
        "id": "WA7H8S6TsQB4"
      }
    },
    {
      "cell_type": "code",
      "source": [
        "#addition\n",
        "# +*/- // %\n",
        "5+6"
      ],
      "metadata": {
        "colab": {
          "base_uri": "https://localhost:8080/"
        },
        "id": "PHB-kFvmrGTT",
        "outputId": "980340e2-3212-480f-bca0-95f5aa0eb41f"
      },
      "execution_count": 21,
      "outputs": [
        {
          "output_type": "execute_result",
          "data": {
            "text/plain": [
              "11"
            ]
          },
          "metadata": {},
          "execution_count": 21
        }
      ]
    },
    {
      "cell_type": "code",
      "source": [
        "#substratcion\n",
        "6-5"
      ],
      "metadata": {
        "colab": {
          "base_uri": "https://localhost:8080/"
        },
        "id": "6yz4goaLrcyy",
        "outputId": "fca3d3f7-98a8-4e81-9231-f566c66aec6d"
      },
      "execution_count": 34,
      "outputs": [
        {
          "output_type": "execute_result",
          "data": {
            "text/plain": [
              "1"
            ]
          },
          "metadata": {},
          "execution_count": 34
        }
      ]
    },
    {
      "cell_type": "code",
      "source": [
        "#division\n",
        "15/5"
      ],
      "metadata": {
        "colab": {
          "base_uri": "https://localhost:8080/"
        },
        "id": "5ASJ_9g9rh8D",
        "outputId": "86f636c7-a198-45e1-d75f-8eb9c77489c3"
      },
      "execution_count": 35,
      "outputs": [
        {
          "output_type": "execute_result",
          "data": {
            "text/plain": [
              "3.0"
            ]
          },
          "metadata": {},
          "execution_count": 35
        }
      ]
    },
    {
      "cell_type": "code",
      "source": [
        "#multiplicaiton\n",
        "3*9"
      ],
      "metadata": {
        "colab": {
          "base_uri": "https://localhost:8080/"
        },
        "id": "47sGFxgOrjrw",
        "outputId": "9e679af9-b671-45c7-9648-e69810f2736f"
      },
      "execution_count": 36,
      "outputs": [
        {
          "output_type": "execute_result",
          "data": {
            "text/plain": [
              "27"
            ]
          },
          "metadata": {},
          "execution_count": 36
        }
      ]
    },
    {
      "cell_type": "code",
      "source": [
        "# No Remainder division \n",
        "9//2"
      ],
      "metadata": {
        "colab": {
          "base_uri": "https://localhost:8080/"
        },
        "id": "kfajER4Zrkzx",
        "outputId": "c9bd4042-f1e8-4303-f156-4c8eb4177fdc"
      },
      "execution_count": 40,
      "outputs": [
        {
          "output_type": "execute_result",
          "data": {
            "text/plain": [
              "4"
            ]
          },
          "metadata": {},
          "execution_count": 40
        }
      ]
    },
    {
      "cell_type": "code",
      "source": [
        "#Modulo\n",
        "9%4"
      ],
      "metadata": {
        "colab": {
          "base_uri": "https://localhost:8080/"
        },
        "id": "iYTXijJprl3x",
        "outputId": "9ceeb960-d463-469f-c05b-ad85aa4d8d37"
      },
      "execution_count": 41,
      "outputs": [
        {
          "output_type": "execute_result",
          "data": {
            "text/plain": [
              "1"
            ]
          },
          "metadata": {},
          "execution_count": 41
        }
      ]
    },
    {
      "cell_type": "code",
      "source": [
        "#power\n",
        "2**3"
      ],
      "metadata": {
        "colab": {
          "base_uri": "https://localhost:8080/"
        },
        "id": "ypVjZIUjrmVA",
        "outputId": "a3cb96dd-ceeb-49ce-f67e-6545e581e4e7"
      },
      "execution_count": 42,
      "outputs": [
        {
          "output_type": "execute_result",
          "data": {
            "text/plain": [
              "8"
            ]
          },
          "metadata": {},
          "execution_count": 42
        }
      ]
    },
    {
      "cell_type": "code",
      "source": [
        "#Interactive help\n",
        "dir()"
      ],
      "metadata": {
        "id": "I2NOFzfkszhQ"
      },
      "execution_count": null,
      "outputs": []
    },
    {
      "cell_type": "code",
      "source": [
        "help(pow)"
      ],
      "metadata": {
        "colab": {
          "base_uri": "https://localhost:8080/"
        },
        "id": "nT-Dr7aes9Zi",
        "outputId": "c164c5d4-df59-4b92-8c92-3c27b38004a3"
      },
      "execution_count": 45,
      "outputs": [
        {
          "output_type": "stream",
          "name": "stdout",
          "text": [
            "Help on built-in function pow in module builtins:\n",
            "\n",
            "pow(x, y, z=None, /)\n",
            "    Equivalent to x**y (with two arguments) or x**y % z (with three arguments)\n",
            "    \n",
            "    Some types, such as ints, are able to use a more efficient algorithm when\n",
            "    invoked using the three argument form.\n",
            "\n"
          ]
        }
      ]
    },
    {
      "cell_type": "code",
      "source": [
        "help(__builtins__)"
      ],
      "metadata": {
        "id": "Q7Q9sLSptSK1"
      },
      "execution_count": null,
      "outputs": []
    },
    {
      "cell_type": "code",
      "source": [
        "10**2"
      ],
      "metadata": {
        "colab": {
          "base_uri": "https://localhost:8080/"
        },
        "id": "YKb7fgeItaOD",
        "outputId": "c112814c-c413-4859-9bdd-03c7459a1d00"
      },
      "execution_count": 47,
      "outputs": [
        {
          "output_type": "execute_result",
          "data": {
            "text/plain": [
              "100"
            ]
          },
          "metadata": {},
          "execution_count": 47
        }
      ]
    },
    {
      "cell_type": "code",
      "source": [
        "pow(10,2)"
      ],
      "metadata": {
        "colab": {
          "base_uri": "https://localhost:8080/"
        },
        "id": "Kf3SL-mfuHLY",
        "outputId": "e54c53c6-25d3-4c05-e764-123f21917356"
      },
      "execution_count": 48,
      "outputs": [
        {
          "output_type": "execute_result",
          "data": {
            "text/plain": [
              "100"
            ]
          },
          "metadata": {},
          "execution_count": 48
        }
      ]
    },
    {
      "cell_type": "code",
      "source": [
        "help(hex)"
      ],
      "metadata": {
        "colab": {
          "base_uri": "https://localhost:8080/"
        },
        "id": "XEl1XLisuPal",
        "outputId": "e2daa9bc-3d1b-4521-b6e9-7d750b17478b"
      },
      "execution_count": 49,
      "outputs": [
        {
          "output_type": "stream",
          "name": "stdout",
          "text": [
            "Help on built-in function hex in module builtins:\n",
            "\n",
            "hex(number, /)\n",
            "    Return the hexadecimal representation of an integer.\n",
            "    \n",
            "    >>> hex(12648430)\n",
            "    '0xc0ffee'\n",
            "\n"
          ]
        }
      ]
    },
    {
      "cell_type": "code",
      "source": [
        "hex(12648430)"
      ],
      "metadata": {
        "colab": {
          "base_uri": "https://localhost:8080/",
          "height": 35
        },
        "id": "-RPaVuu2ubFr",
        "outputId": "0ae3441d-19b5-4d61-c64b-693b672e479e"
      },
      "execution_count": 50,
      "outputs": [
        {
          "output_type": "execute_result",
          "data": {
            "text/plain": [
              "'0xc0ffee'"
            ],
            "application/vnd.google.colaboratory.intrinsic+json": {
              "type": "string"
            }
          },
          "metadata": {},
          "execution_count": 50
        }
      ]
    },
    {
      "cell_type": "code",
      "source": [
        "hex(10)"
      ],
      "metadata": {
        "colab": {
          "base_uri": "https://localhost:8080/",
          "height": 35
        },
        "id": "qyViuu5oudR8",
        "outputId": "5b0a297f-af75-4a72-b5eb-b3d2ce38433f"
      },
      "execution_count": 51,
      "outputs": [
        {
          "output_type": "execute_result",
          "data": {
            "text/plain": [
              "'0xa'"
            ],
            "application/vnd.google.colaboratory.intrinsic+json": {
              "type": "string"
            }
          },
          "metadata": {},
          "execution_count": 51
        }
      ]
    },
    {
      "cell_type": "code",
      "source": [
        "help('modules')"
      ],
      "metadata": {
        "colab": {
          "base_uri": "https://localhost:8080/"
        },
        "id": "OXEHX-Iwufhs",
        "outputId": "165f20bc-4a85-4273-b4d0-e436b5f5e266"
      },
      "execution_count": 52,
      "outputs": [
        {
          "output_type": "stream",
          "name": "stdout",
          "text": [
            "\n",
            "Please wait a moment while I gather a list of all available modules...\n",
            "\n"
          ]
        },
        {
          "output_type": "stream",
          "name": "stderr",
          "text": [
            "/usr/local/lib/python3.7/dist-packages/IPython/kernel/__init__.py:13: ShimWarning: The `IPython.kernel` package has been deprecated since IPython 4.0.You should import from ipykernel or jupyter_client instead.\n",
            "  \"You should import from ipykernel or jupyter_client instead.\", ShimWarning)\n",
            "/usr/local/lib/python3.7/dist-packages/llvmlite/llvmpy/__init__.py:4: UserWarning: The module `llvmlite.llvmpy` is deprecated and will be removed in the future.\n",
            "  \"The module `llvmlite.llvmpy` is deprecated and will be removed in the \"\n",
            "/usr/local/lib/python3.7/dist-packages/llvmlite/llvmpy/core.py:9: UserWarning: The module `llvmlite.llvmpy.core` is deprecated and will be removed in the future. Equivalent functionality is provided by `llvmlite.ir`.\n",
            "  \"The module `llvmlite.llvmpy.core` is deprecated and will be removed in \"\n",
            "WARNING: AstropyDeprecationWarning: The private astropy._erfa module has been made into its own package, pyerfa, which is a dependency of astropy and can be imported directly using \"import erfa\" [astropy._erfa]\n",
            "WARNING:astropy:AstropyDeprecationWarning: The private astropy._erfa module has been made into its own package, pyerfa, which is a dependency of astropy and can be imported directly using \"import erfa\"\n",
            "/usr/local/lib/python3.7/dist-packages/caffe2/__init__.py:5: UserWarning: Caffe2 support is not fully enabled in this PyTorch build. Please enable Caffe2 by building PyTorch from source with `BUILD_CAFFE2=1` flag.\n",
            "  warnings.warn(\"Caffe2 support is not fully enabled in this PyTorch build. \"\n",
            "/usr/local/lib/python3.7/dist-packages/caffe2/proto/__init__.py:17: UserWarning: Caffe2 support is not enabled in this PyTorch build. Please enable Caffe2 by building PyTorch from source with `BUILD_CAFFE2=1` flag.\n",
            "  warnings.warn('Caffe2 support is not enabled in this PyTorch build. '\n",
            "/usr/local/lib/python3.7/dist-packages/caffe2/proto/__init__.py:17: UserWarning: Caffe2 support is not enabled in this PyTorch build. Please enable Caffe2 by building PyTorch from source with `BUILD_CAFFE2=1` flag.\n",
            "  warnings.warn('Caffe2 support is not enabled in this PyTorch build. '\n",
            "/usr/local/lib/python3.7/dist-packages/caffe2/python/__init__.py:9: UserWarning: Caffe2 support is not enabled in this PyTorch build. Please enable Caffe2 by building PyTorch from source with `BUILD_CAFFE2=1` flag.\n",
            "  warnings.warn('Caffe2 support is not enabled in this PyTorch build. '\n",
            "/usr/local/lib/python3.7/dist-packages/past/types/oldstr.py:5: DeprecationWarning:\n",
            "\n",
            "Using or importing the ABCs from 'collections' instead of from 'collections.abc' is deprecated since Python 3.3,and in 3.9 it will stop working\n",
            "\n",
            "/usr/local/lib/python3.7/dist-packages/intervaltree/intervaltree.py:37: DeprecationWarning:\n",
            "\n",
            "Using or importing the ABCs from 'collections' instead of from 'collections.abc' is deprecated since Python 3.3,and in 3.9 it will stop working\n",
            "\n",
            "/usr/local/lib/python3.7/dist-packages/jupyter_client/ssh/tunnel.py:57: DeprecationWarning:\n",
            "\n",
            "zmq.utils.strtypes is deprecated in pyzmq 23.\n",
            "\n",
            "/usr/local/lib/python3.7/dist-packages/librosa/core/constantq.py:1059: DeprecationWarning:\n",
            "\n",
            "`np.complex` is a deprecated alias for the builtin `complex`. To silence this warning, use `complex` by itself. Doing this will not modify any behavior and is safe. If you specifically wanted the numpy scalar type, use `np.complex128` here.\n",
            "Deprecated in NumPy 1.20; for more details and guidance: https://numpy.org/devdocs/release/1.20.0-notes.html#deprecations\n",
            "\n"
          ]
        },
        {
          "output_type": "stream",
          "name": "stdout",
          "text": [
            "Downloading http://dlib.net/files/shape_predictor_68_face_landmarks.dat.bz2 to /root/mlxtend_data/shape_predictor_68_face_landmarks.dat.bz2\n"
          ]
        },
        {
          "output_type": "stream",
          "name": "stderr",
          "text": [
            "/usr/local/lib/python3.7/dist-packages/nbconvert/filters/strings.py:22: DeprecationWarning:\n",
            "\n",
            "defusedxml.cElementTree is deprecated, import from defusedxml.ElementTree instead.\n",
            "\n",
            "/usr/local/lib/python3.7/dist-packages/nibabel/quaternions.py:31: DeprecationWarning:\n",
            "\n",
            "`np.float` is a deprecated alias for the builtin `float`. To silence this warning, use `float` by itself. Doing this will not modify any behavior and is safe. If you specifically wanted the numpy scalar type, use `np.float64` here.\n",
            "Deprecated in NumPy 1.20; for more details and guidance: https://numpy.org/devdocs/release/1.20.0-notes.html#deprecations\n",
            "\n",
            "/usr/lib/python3.7/pkgutil.py:92: UserWarning:\n",
            "\n",
            "The DICOM readers are highly experimental, unstable, and only work for Siemens time-series at the moment\n",
            "Please use with caution.  We would be grateful for your help in improving them\n",
            "\n",
            "/usr/local/lib/python3.7/dist-packages/nltk/twitter/__init__.py:21: UserWarning:\n",
            "\n",
            "The twython library has not been installed. Some functionality from the twitter package will not be available.\n",
            "\n",
            "/usr/local/lib/python3.7/dist-packages/pip/_vendor/packaging/version.py:130: DeprecationWarning:\n",
            "\n",
            "Creating a LegacyVersion has been deprecated and will be removed in the next major release\n",
            "\n",
            "/usr/local/lib/python3.7/dist-packages/pip/_vendor/packaging/version.py:130: DeprecationWarning:\n",
            "\n",
            "Creating a LegacyVersion has been deprecated and will be removed in the next major release\n",
            "\n",
            "/usr/lib/python3.7/pkgutil.py:92: UserWarning: Viewer requires Qt\n",
            "/usr/local/lib/python3.7/dist-packages/sphinx/websupport/__init__.py:25: RemovedInSphinx20Warning: sphinx.websupport module is now provided as sphinxcontrib-websupport. sphinx.websupport will be removed at Sphinx-2.0. Please use the package instead.\n",
            "/usr/local/lib/python3.7/dist-packages/marshmallow/fields.py:573: RemovedInMarshmallow4Warning: The 'missing' argument to fields is deprecated. Use 'load_default' instead.\n",
            "/usr/local/lib/python3.7/dist-packages/tensorboard/_vendor/html5lib/filters/sanitizer.py:29: DeprecationWarning: html5lib's sanitizer is deprecated; see https://github.com/html5lib/html5lib-python/issues/443 and please let us know if Bleach is unsuitable for your needs\n",
            "/usr/local/lib/python3.7/dist-packages/torch/distributed/_sharded_tensor/__init__.py:10: DeprecationWarning: torch.distributed._sharded_tensor will be deprecated, use torch.distributed._shard.sharded_tensor instead\n",
            "/usr/local/lib/python3.7/dist-packages/torch/distributed/_sharding_spec/__init__.py:10: DeprecationWarning: torch.distributed._sharding_spec will be deprecated, use torch.distributed._shard.sharding_spec instead\n"
          ]
        },
        {
          "output_type": "stream",
          "name": "stdout",
          "text": [
            "No CUDA runtime is found, using CUDA_HOME='/usr/local/cuda'\n",
            "Cython              collections         kanren              resampy\n",
            "IPython             colorcet            kapre               resource\n",
            "OpenGL              colorlover          keras               rlcompleter\n",
            "PIL                 colorsys            keras_preprocessing rmagic\n",
            "ScreenResolution    community           keyword             rpy2\n",
            "__future__          compileall          kiwisolver          rsa\n",
            "_abc                concurrent          korean_lunar_calendar runpy\n",
            "_ast                confection          langcodes           samples\n",
            "_asyncio            configparser        lib2to3             sched\n",
            "_bisect             cons                libfuturize         scipy\n",
            "_blake2             contextlib          libpasteurize       scs\n",
            "_bootlocale         contextlib2         librosa             seaborn\n",
            "_bz2                contextvars         lightgbm            secrets\n",
            "_cffi_backend       convertdate         linecache           select\n",
            "_codecs             copy                llvmlite            selectors\n",
            "_codecs_cn          copyreg             lmdb                send2trash\n",
            "_codecs_hk          crashtest           locale              setuptools\n",
            "_codecs_iso2022     crcmod              locket              setuptools_git\n",
            "_codecs_jp          crypt               logging             shapely\n",
            "_codecs_kr          csimdjson           lsb_release         shelve\n",
            "_codecs_tw          csv                 lunarcalendar       shlex\n",
            "_collections        ctypes              lxml                shutil\n",
            "_collections_abc    cufflinks           lzma                signal\n",
            "_compat_pickle      curses              macpath             simdjson\n",
            "_compression        cv2                 mailbox             site\n",
            "_contextvars        cvxopt              mailcap             sitecustomize\n",
            "_crypt              cvxpy               markdown            six\n",
            "_csv                cycler              markupsafe          skimage\n",
            "_ctypes             cymem               marshal             sklearn\n",
            "_ctypes_test        cython              marshmallow         sklearn_pandas\n",
            "_curses             cythonmagic         math                slugify\n",
            "_curses_panel       daft                matplotlib          smart_open\n",
            "_cvxcore            dask                matplotlib_venn     smtpd\n",
            "_datetime           dataclasses         mimetypes           smtplib\n",
            "_dbm                datascience         missingno           sndhdr\n",
            "_decimal            datetime            mistune             snowballstemmer\n",
            "_distutils_hack     dateutil            mizani              socket\n",
            "_dlib_pybind11      dbm                 mlxtend             socketserver\n",
            "_dummy_thread       dbus                mmap                socks\n",
            "_ecos               debugpy             modulefinder        sockshandler\n",
            "_elementtree        decimal             more_itertools      softwareproperties\n",
            "_functools          decorator           moviepy             sortedcontainers\n",
            "_hashlib            defusedxml          mpmath              soundfile\n",
            "_heapq              descartes           msgpack             spacy\n",
            "_imp                difflib             multidict           spacy_legacy\n",
            "_io                 dill                multipledispatch    spacy_loggers\n",
            "_json               dis                 multiprocessing     sphinx\n",
            "_locale             distributed         multitasking        spwd\n",
            "_lsprof             distutils           murmurhash          sql\n",
            "_lzma               dlib                music21             sqlalchemy\n",
            "_markupbase         docs                natsort             sqlite3\n",
            "_md5                doctest             nbconvert           sqlparse\n",
            "_multibytecodec     docutils            nbformat            sre_compile\n",
            "_multiprocessing    dopamine            netCDF4             sre_constants\n",
            "_opcode             dot_parser          netrc               sre_parse\n",
            "_operator           dummy_threading     networkx            srsly\n",
            "_osx_support        easydict            nibabel             ssl\n",
            "_pickle             ecos                nis                 stan\n",
            "_plotly_future_     editdistance        nisext              stat\n",
            "_plotly_utils       ee                  nltk                statistics\n",
            "_posixsubprocess    email               nntplib             statsmodels\n",
            "_py_abc             en_core_web_sm      notebook            storemagic\n",
            "_pydecimal          encodings           ntpath              string\n",
            "_pyio               entrypoints         nturl2path          stringprep\n",
            "_pyrsistent_version enum                numba               struct\n",
            "_pytest             ephem               numbergen           subprocess\n",
            "_queue              erfa                numbers             sunau\n",
            "_random             errno               numexpr             symbol\n",
            "_rinterface_cffi_abi et_xmlfile          numpy               sympy\n",
            "_rinterface_cffi_api etils               oauth2client        sympyprinting\n",
            "_scs_direct         etuples             oauthlib            symtable\n",
            "_scs_indirect       fa2                 ogr                 sys\n",
            "_sha1               fastai              okgrade             sysconfig\n",
            "_sha256             fastcore            opcode              syslog\n",
            "_sha3               fastdownload        openpyxl            tables\n",
            "_sha512             fastdtw             operator            tabnanny\n",
            "_signal             fastjsonschema      opt_einsum          tabulate\n",
            "_sitebuiltins       fastprogress        optparse            tarfile\n",
            "_socket             fastrlock           os                  tblib\n",
            "_soundfile          faulthandler        osgeo               telnetlib\n",
            "_sqlite3            fcntl               osqp                tempfile\n",
            "_sre                feather             osqppurepy          tenacity\n",
            "_ssl                filecmp             osr                 tensorboard\n",
            "_stat               fileinput           ossaudiodev         tensorboard_data_server\n",
            "_string             filelock            packaging           tensorboard_plugin_wit\n",
            "_strptime           firebase_admin      palettable          tensorflow\n",
            "_struct             fix_yahoo_finance   pandas              tensorflow_datasets\n",
            "_symtable           flask               pandas_datareader   tensorflow_estimator\n",
            "_sysconfigdata_m_linux_x86_64-linux-gnu flatbuffers         pandas_gbq          tensorflow_gcs_config\n",
            "_sysconfigdata_m_x86_64-linux-gnu fnmatch             pandas_profiling    tensorflow_hub\n",
            "_testbuffer         folium              pandocfilters       tensorflow_io_gcs_filesystem\n",
            "_testcapi           formatter           panel               tensorflow_metadata\n",
            "_testimportmultiple fractions           param               tensorflow_probability\n",
            "_testmultiphase     frozenlist          parser              termcolor\n",
            "_thread             fsspec              parso               terminado\n",
            "_threading_local    ftplib              partd               termios\n",
            "_tkinter            functools           past                test\n",
            "_tracemalloc        future              pasta               testpath\n",
            "_warnings           gast                pastel              tests\n",
            "_weakref            gc                  pathlib             text_unidecode\n",
            "_weakrefset         gdal                pathy               textblob\n",
            "_xxtestfuzz         gdalconst           patsy               textwrap\n",
            "_yaml               gdalnumeric         pdb                 thinc\n",
            "abc                 gdown               pep517              this\n",
            "absl                genericpath         pexpect             threading\n",
            "aeppl               gensim              pickle              threadpoolctl\n",
            "aesara              geographiclib       pickleshare         tifffile\n",
            "aifc                geopy               pickletools         time\n",
            "aiohttp             getopt              pip                 timeit\n",
            "aiosignal           getpass             pipes               tkinter\n",
            "alabaster           gettext             piptools            tlz\n",
            "albumentations      gi                  pkg_resources       token\n",
            "altair              gin                 pkgutil             tokenize\n",
            "antigravity         glob                platform            toml\n",
            "apiclient           glob2               plistlib            tomli\n",
            "appdirs             gnm                 plotly              toolz\n",
            "apt                 google_auth_httplib2 plotlywidget        torch\n",
            "apt_inst            google_auth_oauthlib plotnine            torchaudio\n",
            "apt_pkg             google_drive_downloader pluggy              torchgen\n",
            "aptsources          googleapiclient     pooch               torchsummary\n",
            "argparse            googlesearch        poplib              torchtext\n",
            "array               graphviz            portpicker          torchvision\n",
            "arviz               greenlet            posix               tornado\n",
            "ast                 gridfs              posixpath           tqdm\n",
            "astor               grp                 pprint              trace\n",
            "astropy             grpc                prefetch_generator  traceback\n",
            "astunparse          gspread             preshed             tracemalloc\n",
            "async_timeout       gspread_dataframe   prettytable         traitlets\n",
            "asynchat            gym                 profile             tree\n",
            "asyncio             gym_notices         progressbar         tty\n",
            "asyncore            gzip                promise             turtle\n",
            "asynctest           h5py                prompt_toolkit      tweepy\n",
            "atari_py            hashlib             prophet             typeguard\n",
            "atexit              heapdict            pstats              typer\n",
            "atomicwrites        heapq               psutil              types\n",
            "attr                hijri_converter     psycopg2            typing\n",
            "attrs               hmac                pty                 typing_extensions\n",
            "audioop             holidays            ptyprocess          tzlocal\n",
            "audioread           holoviews           pvectorc            ujson\n",
            "autograd            html                pwd                 unicodedata\n",
            "autoreload          html5lib            py                  unification\n",
            "babel               http                py_compile          unittest\n",
            "backcall            httpimport          pyarrow             uritemplate\n",
            "base64              httplib2            pyasn1              urllib\n",
            "bdb                 httplib2shim        pyasn1_modules      urllib3\n",
            "bin                 httpstan            pyclbr              uu\n",
            "binascii            humanize            pycocotools         uuid\n",
            "binhex              hyperopt            pycparser           vega_datasets\n",
            "bisect              idna                pyct                venv\n",
            "bleach              imageio             pydantic            vis\n",
            "blis                imagesize           pydata_google_auth  warnings\n",
            "bokeh               imaplib             pydoc               wasabi\n",
            "boost               imblearn            pydoc_data          wave\n",
            "branca              imgaug              pydot               wcwidth\n",
            "bs4                 imghdr              pydot_ng            weakref\n",
            "bson                imp                 pydotplus           webargs\n",
            "builtins            importlib           pydrive             webbrowser\n",
            "bz2                 importlib_metadata  pyemd               webencodings\n",
            "cProfile            importlib_resources pyexpat             werkzeug\n",
            "cachecontrol        imutils             pygments            wheel\n",
            "cached_property     inflect             pygtkcompat         widgetsnbextension\n",
            "cachetools          inspect             pylab               wordcloud\n",
            "caffe2              intervaltree        pylev               wrapt\n",
            "calendar            io                  pymc                wsgiref\n",
            "catalogue           ipaddress           pymeeus             xarray\n",
            "certifi             ipykernel           pymongo             xarray_einstats\n",
            "cffi                ipykernel_launcher  pymystem3           xdrlib\n",
            "cftime              ipython_genutils    pyparsing           xgboost\n",
            "cgi                 ipywidgets          pyrsistent          xkit\n",
            "cgitb               isympy              pysndfile           xlrd\n",
            "chardet             itertools           pytest              xlwt\n",
            "charset_normalizer  itsdangerous        python_utils        xml\n",
            "chess               jax                 pytz                xmlrpc\n",
            "chunk               jaxlib              pyviz_comms         xxlimited\n",
            "clang               jieba               pywt                xxsubtype\n",
            "click               jinja2              pyximport           yaml\n",
            "client              joblib              qdldl               yarl\n",
            "clikit              jpeg4py             qudida              yellowbrick\n",
            "cloudpickle         json                queue               zict\n",
            "cmake               jsonschema          quopri              zipapp\n",
            "cmath               jupyter             random              zipfile\n",
            "cmd                 jupyter_client      re                  zipimport\n",
            "cmdstanpy           jupyter_console     readline            zipp\n",
            "code                jupyter_core        regex               zlib\n",
            "codecs              jupyterlab_plotly   reprlib             zmq\n",
            "codeop              jupyterlab_widgets  requests            \n",
            "colab               kaggle              requests_oauthlib   \n",
            "\n",
            "Enter any module name to get more help.  Or, type \"modules spam\" to search\n",
            "for modules whose name or summary contain the string \"spam\".\n",
            "\n"
          ]
        },
        {
          "output_type": "stream",
          "name": "stderr",
          "text": [
            "/usr/lib/python3.7/pkgutil.py:107: VisibleDeprecationWarning: zmq.eventloop.minitornado is deprecated in pyzmq 14.0 and will be removed.\n",
            "    Install tornado itself to use zmq with the tornado IOLoop.\n",
            "    \n"
          ]
        }
      ]
    },
    {
      "cell_type": "code",
      "source": [
        "import math"
      ],
      "metadata": {
        "id": "VhG9Cxtqun_b"
      },
      "execution_count": 53,
      "outputs": []
    },
    {
      "cell_type": "code",
      "source": [
        "dir(math)"
      ],
      "metadata": {
        "colab": {
          "base_uri": "https://localhost:8080/"
        },
        "id": "WK4Xnn06vFjc",
        "outputId": "8f9db5fe-685f-4666-f3b7-d44f5e9c46ff"
      },
      "execution_count": 55,
      "outputs": [
        {
          "output_type": "execute_result",
          "data": {
            "text/plain": [
              "['__doc__',\n",
              " '__loader__',\n",
              " '__name__',\n",
              " '__package__',\n",
              " '__spec__',\n",
              " 'acos',\n",
              " 'acosh',\n",
              " 'asin',\n",
              " 'asinh',\n",
              " 'atan',\n",
              " 'atan2',\n",
              " 'atanh',\n",
              " 'ceil',\n",
              " 'copysign',\n",
              " 'cos',\n",
              " 'cosh',\n",
              " 'degrees',\n",
              " 'e',\n",
              " 'erf',\n",
              " 'erfc',\n",
              " 'exp',\n",
              " 'expm1',\n",
              " 'fabs',\n",
              " 'factorial',\n",
              " 'floor',\n",
              " 'fmod',\n",
              " 'frexp',\n",
              " 'fsum',\n",
              " 'gamma',\n",
              " 'gcd',\n",
              " 'hypot',\n",
              " 'inf',\n",
              " 'isclose',\n",
              " 'isfinite',\n",
              " 'isinf',\n",
              " 'isnan',\n",
              " 'ldexp',\n",
              " 'lgamma',\n",
              " 'log',\n",
              " 'log10',\n",
              " 'log1p',\n",
              " 'log2',\n",
              " 'modf',\n",
              " 'nan',\n",
              " 'pi',\n",
              " 'pow',\n",
              " 'radians',\n",
              " 'remainder',\n",
              " 'sin',\n",
              " 'sinh',\n",
              " 'sqrt',\n",
              " 'tan',\n",
              " 'tanh',\n",
              " 'tau',\n",
              " 'trunc']"
            ]
          },
          "metadata": {},
          "execution_count": 55
        }
      ]
    },
    {
      "cell_type": "code",
      "source": [
        "help(str)"
      ],
      "metadata": {
        "id": "Rha6HI4gvHKd"
      },
      "execution_count": null,
      "outputs": []
    },
    {
      "cell_type": "code",
      "source": [
        "math.radians(180)"
      ],
      "metadata": {
        "colab": {
          "base_uri": "https://localhost:8080/"
        },
        "id": "oW2RwxwovY5M",
        "outputId": "eec8400d-d8f0-41d0-c297-1535fe3e61da"
      },
      "execution_count": 68,
      "outputs": [
        {
          "output_type": "execute_result",
          "data": {
            "text/plain": [
              "3.141592653589793"
            ]
          },
          "metadata": {},
          "execution_count": 68
        }
      ]
    },
    {
      "cell_type": "code",
      "source": [
        "math.sqrt(14641)"
      ],
      "metadata": {
        "colab": {
          "base_uri": "https://localhost:8080/"
        },
        "id": "kJzsp1-hv6Qd",
        "outputId": "9600a235-cef3-4269-db17-df17f8440063"
      },
      "execution_count": 73,
      "outputs": [
        {
          "output_type": "execute_result",
          "data": {
            "text/plain": [
              "121.0"
            ]
          },
          "metadata": {},
          "execution_count": 73
        }
      ]
    },
    {
      "cell_type": "code",
      "source": [
        "pow(121,2)"
      ],
      "metadata": {
        "colab": {
          "base_uri": "https://localhost:8080/"
        },
        "id": "nV_H6b9RwDuL",
        "outputId": "2ba911ab-aaf9-45ce-b392-08436174612c"
      },
      "execution_count": 72,
      "outputs": [
        {
          "output_type": "execute_result",
          "data": {
            "text/plain": [
              "14641"
            ]
          },
          "metadata": {},
          "execution_count": 72
        }
      ]
    },
    {
      "cell_type": "markdown",
      "source": [
        "**Booleans **"
      ],
      "metadata": {
        "id": "P4bKzR8QwSJb"
      }
    },
    {
      "cell_type": "code",
      "source": [
        "True ==False"
      ],
      "metadata": {
        "colab": {
          "base_uri": "https://localhost:8080/"
        },
        "id": "WCEnLjywwGRa",
        "outputId": "6973abf6-5eb1-4840-812d-f8c8868019d9"
      },
      "execution_count": 74,
      "outputs": [
        {
          "output_type": "execute_result",
          "data": {
            "text/plain": [
              "False"
            ]
          },
          "metadata": {},
          "execution_count": 74
        }
      ]
    },
    {
      "cell_type": "code",
      "source": [
        "0==1"
      ],
      "metadata": {
        "colab": {
          "base_uri": "https://localhost:8080/"
        },
        "id": "VJ81KbeBwYxa",
        "outputId": "0c65ec4e-e4ca-483c-8cb5-a960fc080359"
      },
      "execution_count": 75,
      "outputs": [
        {
          "output_type": "execute_result",
          "data": {
            "text/plain": [
              "False"
            ]
          },
          "metadata": {},
          "execution_count": 75
        }
      ]
    },
    {
      "cell_type": "code",
      "source": [
        "print(True)"
      ],
      "metadata": {
        "colab": {
          "base_uri": "https://localhost:8080/"
        },
        "id": "JhGh-FEBwaBs",
        "outputId": "89f0ce0b-b083-4fab-f4ca-e5ba338917b5"
      },
      "execution_count": 76,
      "outputs": [
        {
          "output_type": "stream",
          "name": "stdout",
          "text": [
            "True\n"
          ]
        }
      ]
    },
    {
      "cell_type": "code",
      "source": [
        "True != False"
      ],
      "metadata": {
        "colab": {
          "base_uri": "https://localhost:8080/"
        },
        "id": "-KV5vUS1wcfe",
        "outputId": "38a1c954-bc47-4f2f-9120-fc85cd541801"
      },
      "execution_count": 77,
      "outputs": [
        {
          "output_type": "execute_result",
          "data": {
            "text/plain": [
              "True"
            ]
          },
          "metadata": {},
          "execution_count": 77
        }
      ]
    },
    {
      "cell_type": "code",
      "source": [
        "type(True)"
      ],
      "metadata": {
        "colab": {
          "base_uri": "https://localhost:8080/"
        },
        "id": "EZpbtGB2wfA6",
        "outputId": "a974e9b0-dc6e-47f7-8212-ab2528f51ca9"
      },
      "execution_count": 79,
      "outputs": [
        {
          "output_type": "execute_result",
          "data": {
            "text/plain": [
              "bool"
            ]
          },
          "metadata": {},
          "execution_count": 79
        }
      ]
    },
    {
      "cell_type": "code",
      "source": [
        "bool(28)"
      ],
      "metadata": {
        "colab": {
          "base_uri": "https://localhost:8080/"
        },
        "id": "8W3UFXEQwma7",
        "outputId": "09b8b6f0-54d8-488b-cead-7fa13e9c861a"
      },
      "execution_count": 80,
      "outputs": [
        {
          "output_type": "execute_result",
          "data": {
            "text/plain": [
              "True"
            ]
          },
          "metadata": {},
          "execution_count": 80
        }
      ]
    },
    {
      "cell_type": "code",
      "source": [
        "bool(0)"
      ],
      "metadata": {
        "colab": {
          "base_uri": "https://localhost:8080/"
        },
        "id": "TSt3nZftwq67",
        "outputId": "447b216c-d433-4bef-e0d9-d96b4ea9f28b"
      },
      "execution_count": 81,
      "outputs": [
        {
          "output_type": "execute_result",
          "data": {
            "text/plain": [
              "False"
            ]
          },
          "metadata": {},
          "execution_count": 81
        }
      ]
    },
    {
      "cell_type": "code",
      "source": [
        "bool(-1.2565)"
      ],
      "metadata": {
        "colab": {
          "base_uri": "https://localhost:8080/"
        },
        "id": "6lzMYyzDwtQr",
        "outputId": "5e0a97a5-0e2a-4969-9053-ecf6bfe70609"
      },
      "execution_count": 82,
      "outputs": [
        {
          "output_type": "execute_result",
          "data": {
            "text/plain": [
              "True"
            ]
          },
          "metadata": {},
          "execution_count": 82
        }
      ]
    },
    {
      "cell_type": "code",
      "source": [
        "str(True)"
      ],
      "metadata": {
        "colab": {
          "base_uri": "https://localhost:8080/",
          "height": 35
        },
        "id": "STD_sm57wx9s",
        "outputId": "7640270f-b75b-496a-acba-e04e8f9e5ee5"
      },
      "execution_count": 83,
      "outputs": [
        {
          "output_type": "execute_result",
          "data": {
            "text/plain": [
              "'True'"
            ],
            "application/vnd.google.colaboratory.intrinsic+json": {
              "type": "string"
            }
          },
          "metadata": {},
          "execution_count": 83
        }
      ]
    },
    {
      "cell_type": "code",
      "source": [
        "int(True)"
      ],
      "metadata": {
        "colab": {
          "base_uri": "https://localhost:8080/"
        },
        "id": "4AJMZXi_w17N",
        "outputId": "5dc9d1c8-d74d-4013-c920-e743175890f1"
      },
      "execution_count": 84,
      "outputs": [
        {
          "output_type": "execute_result",
          "data": {
            "text/plain": [
              "1"
            ]
          },
          "metadata": {},
          "execution_count": 84
        }
      ]
    },
    {
      "cell_type": "code",
      "source": [
        "int(False)"
      ],
      "metadata": {
        "colab": {
          "base_uri": "https://localhost:8080/"
        },
        "id": "yc0VQz3zw676",
        "outputId": "9730e107-f1ec-4421-f0d2-dc68ee8c65a3"
      },
      "execution_count": 85,
      "outputs": [
        {
          "output_type": "execute_result",
          "data": {
            "text/plain": [
              "0"
            ]
          },
          "metadata": {},
          "execution_count": 85
        }
      ]
    },
    {
      "cell_type": "code",
      "source": [
        "5+True"
      ],
      "metadata": {
        "colab": {
          "base_uri": "https://localhost:8080/"
        },
        "id": "39Qx41NSw8DJ",
        "outputId": "28dabfa0-7a22-4a45-d09b-0cf27da69b5d"
      },
      "execution_count": 86,
      "outputs": [
        {
          "output_type": "execute_result",
          "data": {
            "text/plain": [
              "6"
            ]
          },
          "metadata": {},
          "execution_count": 86
        }
      ]
    },
    {
      "cell_type": "code",
      "source": [
        "10*False"
      ],
      "metadata": {
        "colab": {
          "base_uri": "https://localhost:8080/"
        },
        "id": "VEzDgFRvw9yb",
        "outputId": "7bd5a7d2-c798-4b11-f1b6-75425250ef48"
      },
      "execution_count": 87,
      "outputs": [
        {
          "output_type": "execute_result",
          "data": {
            "text/plain": [
              "0"
            ]
          },
          "metadata": {},
          "execution_count": 87
        }
      ]
    },
    {
      "cell_type": "code",
      "source": [
        "import datetime"
      ],
      "metadata": {
        "id": "Qxra_hWnxAJ-"
      },
      "execution_count": 88,
      "outputs": []
    },
    {
      "cell_type": "code",
      "source": [
        "dir(datetime)"
      ],
      "metadata": {
        "colab": {
          "base_uri": "https://localhost:8080/"
        },
        "id": "lxOwaNu5xNp8",
        "outputId": "6742960e-20a9-4154-deb0-7c17ae623ca7"
      },
      "execution_count": 89,
      "outputs": [
        {
          "output_type": "execute_result",
          "data": {
            "text/plain": [
              "['MAXYEAR',\n",
              " 'MINYEAR',\n",
              " '__builtins__',\n",
              " '__cached__',\n",
              " '__doc__',\n",
              " '__file__',\n",
              " '__loader__',\n",
              " '__name__',\n",
              " '__package__',\n",
              " '__spec__',\n",
              " 'date',\n",
              " 'datetime',\n",
              " 'datetime_CAPI',\n",
              " 'sys',\n",
              " 'time',\n",
              " 'timedelta',\n",
              " 'timezone',\n",
              " 'tzinfo']"
            ]
          },
          "metadata": {},
          "execution_count": 89
        }
      ]
    },
    {
      "cell_type": "code",
      "source": [
        "# help(math.radians)"
      ],
      "metadata": {
        "id": "Owd_Mkf6xb7G"
      },
      "execution_count": 94,
      "outputs": []
    },
    {
      "cell_type": "code",
      "source": [
        "help(datetime.timedelta)"
      ],
      "metadata": {
        "colab": {
          "base_uri": "https://localhost:8080/"
        },
        "id": "85rkeF2WxPFs",
        "outputId": "845c0afc-5a42-480d-9f61-bfaeb4307587"
      },
      "execution_count": 91,
      "outputs": [
        {
          "output_type": "stream",
          "name": "stdout",
          "text": [
            "Help on class timedelta in module datetime:\n",
            "\n",
            "class timedelta(builtins.object)\n",
            " |  Difference between two datetime values.\n",
            " |  \n",
            " |  timedelta(days=0, seconds=0, microseconds=0, milliseconds=0, minutes=0, hours=0, weeks=0)\n",
            " |  \n",
            " |  All arguments are optional and default to 0.\n",
            " |  Arguments may be integers or floats, and may be positive or negative.\n",
            " |  \n",
            " |  Methods defined here:\n",
            " |  \n",
            " |  __abs__(self, /)\n",
            " |      abs(self)\n",
            " |  \n",
            " |  __add__(self, value, /)\n",
            " |      Return self+value.\n",
            " |  \n",
            " |  __bool__(self, /)\n",
            " |      self != 0\n",
            " |  \n",
            " |  __divmod__(self, value, /)\n",
            " |      Return divmod(self, value).\n",
            " |  \n",
            " |  __eq__(self, value, /)\n",
            " |      Return self==value.\n",
            " |  \n",
            " |  __floordiv__(self, value, /)\n",
            " |      Return self//value.\n",
            " |  \n",
            " |  __ge__(self, value, /)\n",
            " |      Return self>=value.\n",
            " |  \n",
            " |  __getattribute__(self, name, /)\n",
            " |      Return getattr(self, name).\n",
            " |  \n",
            " |  __gt__(self, value, /)\n",
            " |      Return self>value.\n",
            " |  \n",
            " |  __hash__(self, /)\n",
            " |      Return hash(self).\n",
            " |  \n",
            " |  __le__(self, value, /)\n",
            " |      Return self<=value.\n",
            " |  \n",
            " |  __lt__(self, value, /)\n",
            " |      Return self<value.\n",
            " |  \n",
            " |  __mod__(self, value, /)\n",
            " |      Return self%value.\n",
            " |  \n",
            " |  __mul__(self, value, /)\n",
            " |      Return self*value.\n",
            " |  \n",
            " |  __ne__(self, value, /)\n",
            " |      Return self!=value.\n",
            " |  \n",
            " |  __neg__(self, /)\n",
            " |      -self\n",
            " |  \n",
            " |  __pos__(self, /)\n",
            " |      +self\n",
            " |  \n",
            " |  __radd__(self, value, /)\n",
            " |      Return value+self.\n",
            " |  \n",
            " |  __rdivmod__(self, value, /)\n",
            " |      Return divmod(value, self).\n",
            " |  \n",
            " |  __reduce__(...)\n",
            " |      __reduce__() -> (cls, state)\n",
            " |  \n",
            " |  __repr__(self, /)\n",
            " |      Return repr(self).\n",
            " |  \n",
            " |  __rfloordiv__(self, value, /)\n",
            " |      Return value//self.\n",
            " |  \n",
            " |  __rmod__(self, value, /)\n",
            " |      Return value%self.\n",
            " |  \n",
            " |  __rmul__(self, value, /)\n",
            " |      Return value*self.\n",
            " |  \n",
            " |  __rsub__(self, value, /)\n",
            " |      Return value-self.\n",
            " |  \n",
            " |  __rtruediv__(self, value, /)\n",
            " |      Return value/self.\n",
            " |  \n",
            " |  __str__(self, /)\n",
            " |      Return str(self).\n",
            " |  \n",
            " |  __sub__(self, value, /)\n",
            " |      Return self-value.\n",
            " |  \n",
            " |  __truediv__(self, value, /)\n",
            " |      Return self/value.\n",
            " |  \n",
            " |  total_seconds(...)\n",
            " |      Total seconds in the duration.\n",
            " |  \n",
            " |  ----------------------------------------------------------------------\n",
            " |  Static methods defined here:\n",
            " |  \n",
            " |  __new__(*args, **kwargs) from builtins.type\n",
            " |      Create and return a new object.  See help(type) for accurate signature.\n",
            " |  \n",
            " |  ----------------------------------------------------------------------\n",
            " |  Data descriptors defined here:\n",
            " |  \n",
            " |  days\n",
            " |      Number of days.\n",
            " |  \n",
            " |  microseconds\n",
            " |      Number of microseconds (>= 0 and less than 1 second).\n",
            " |  \n",
            " |  seconds\n",
            " |      Number of seconds (>= 0 and less than 1 day).\n",
            " |  \n",
            " |  ----------------------------------------------------------------------\n",
            " |  Data and other attributes defined here:\n",
            " |  \n",
            " |  max = datetime.timedelta(days=999999999, seconds=86399, microseconds=9...\n",
            " |  \n",
            " |  min = datetime.timedelta(days=-999999999)\n",
            " |  \n",
            " |  resolution = datetime.timedelta(microseconds=1)\n",
            "\n"
          ]
        }
      ]
    },
    {
      "cell_type": "code",
      "source": [
        "gvr = datetime.date(1980,1,30)\n",
        "print(gvr)"
      ],
      "metadata": {
        "colab": {
          "base_uri": "https://localhost:8080/"
        },
        "id": "nX8JJOn4xW3a",
        "outputId": "53f92d6b-211a-4912-f048-3caaba0d2578"
      },
      "execution_count": 95,
      "outputs": [
        {
          "output_type": "stream",
          "name": "stdout",
          "text": [
            "1980-01-30\n"
          ]
        }
      ]
    },
    {
      "cell_type": "code",
      "source": [
        "print(gvr.month)"
      ],
      "metadata": {
        "colab": {
          "base_uri": "https://localhost:8080/"
        },
        "id": "cSPduaiRx7B6",
        "outputId": "bc61d6f0-a638-4910-84de-59971e66088b"
      },
      "execution_count": 96,
      "outputs": [
        {
          "output_type": "stream",
          "name": "stdout",
          "text": [
            "1\n"
          ]
        }
      ]
    },
    {
      "cell_type": "code",
      "source": [
        "print(gvr.year)"
      ],
      "metadata": {
        "colab": {
          "base_uri": "https://localhost:8080/"
        },
        "id": "p6Hk6FmwyCft",
        "outputId": "bf26b678-02eb-463d-d24f-2174cd19e838"
      },
      "execution_count": 97,
      "outputs": [
        {
          "output_type": "stream",
          "name": "stdout",
          "text": [
            "1980\n"
          ]
        }
      ]
    },
    {
      "cell_type": "code",
      "source": [
        "print(gvr.day)"
      ],
      "metadata": {
        "colab": {
          "base_uri": "https://localhost:8080/"
        },
        "id": "T1Yb0mioyFA5",
        "outputId": "aeaba683-83f8-4738-b752-163351ff7ed8"
      },
      "execution_count": 98,
      "outputs": [
        {
          "output_type": "stream",
          "name": "stdout",
          "text": [
            "30\n"
          ]
        }
      ]
    },
    {
      "cell_type": "markdown",
      "source": [
        "Python timedelta() function is present under datetime library which is generally used for calculating differences in dates and also can be used for date manipulations in Python. It is one of the easiest ways to perform date manipulations. "
      ],
      "metadata": {
        "id": "-44WWdegzCI5"
      }
    },
    {
      "cell_type": "code",
      "source": [
        "help(datetime.timedelta)"
      ],
      "metadata": {
        "id": "rtO9zvgYyHq5"
      },
      "execution_count": null,
      "outputs": []
    },
    {
      "cell_type": "code",
      "source": [
        "# örnerk\n",
        "mill = datetime.date(2000,5,1)\n",
        "dt = datetime.timedelta(920)\n",
        "mill+dt"
      ],
      "metadata": {
        "colab": {
          "base_uri": "https://localhost:8080/"
        },
        "id": "8I7Rspfrz7pp",
        "outputId": "96f14fee-db4e-4fbf-d508-863bbe0109e0"
      },
      "execution_count": 109,
      "outputs": [
        {
          "output_type": "execute_result",
          "data": {
            "text/plain": [
              "datetime.date(2002, 11, 7)"
            ]
          },
          "metadata": {},
          "execution_count": 109
        }
      ]
    },
    {
      "cell_type": "code",
      "source": [
        "from datetime import datetime\n",
        "now = datetime.now() \n",
        "print(now)"
      ],
      "metadata": {
        "colab": {
          "base_uri": "https://localhost:8080/"
        },
        "id": "_LAmrSAU1Dyp",
        "outputId": "9b8e8ec7-24d7-4ad2-c6aa-077515a9ad29"
      },
      "execution_count": 112,
      "outputs": [
        {
          "output_type": "stream",
          "name": "stdout",
          "text": [
            "2022-10-22 08:34:56.386674\n"
          ]
        }
      ]
    },
    {
      "cell_type": "markdown",
      "source": [
        "strftime(\"%A, %B, %d, \"Y\")"
      ],
      "metadata": {
        "id": "l0LQS_hB1QZd"
      }
    },
    {
      "cell_type": "code",
      "source": [
        "year = now.strftime(\"%Y\")\n",
        "print(\"year:\", year)"
      ],
      "metadata": {
        "colab": {
          "base_uri": "https://localhost:8080/"
        },
        "id": "DSGvY2jI1frG",
        "outputId": "fb8cbf2a-360b-4bcf-e163-09eac28f47ad"
      },
      "execution_count": 113,
      "outputs": [
        {
          "output_type": "stream",
          "name": "stdout",
          "text": [
            "year: 2022\n"
          ]
        }
      ]
    },
    {
      "cell_type": "code",
      "source": [
        "month = now.strftime(\"%m\")\n",
        "print(\"month:\", month)\n",
        "\n",
        "day = now.strftime(\"%d\")\n",
        "print(\"day:\", day)"
      ],
      "metadata": {
        "colab": {
          "base_uri": "https://localhost:8080/"
        },
        "id": "orAodTjn1lIv",
        "outputId": "7d6131f5-8818-47dc-8fab-e2b508fa6ae8"
      },
      "execution_count": 114,
      "outputs": [
        {
          "output_type": "stream",
          "name": "stdout",
          "text": [
            "month: 10\n",
            "day: 22\n"
          ]
        }
      ]
    },
    {
      "cell_type": "code",
      "source": [
        "#strftime\n",
        "\n",
        "time = now.strftime(\"%H:%M:%S\")\n",
        "print(\"time:\", time)\n",
        "\n"
      ],
      "metadata": {
        "colab": {
          "base_uri": "https://localhost:8080/"
        },
        "id": "Lj2ibhM50NSM",
        "outputId": "ec09048b-eea1-4406-d496-5c276762620b"
      },
      "execution_count": 116,
      "outputs": [
        {
          "output_type": "stream",
          "name": "stdout",
          "text": [
            "time: 08:34:56\n"
          ]
        }
      ]
    },
    {
      "cell_type": "code",
      "source": [
        "date_time = now.strftime(\"%m/%d/%Y, %H:%M:%S\")\n",
        "print(\"date and time:\",date_time)"
      ],
      "metadata": {
        "colab": {
          "base_uri": "https://localhost:8080/"
        },
        "id": "TkezrUNP0jjq",
        "outputId": "beb2b900-3fa0-4b9a-86c4-890a215c8abf"
      },
      "execution_count": 117,
      "outputs": [
        {
          "output_type": "stream",
          "name": "stdout",
          "text": [
            "date and time: 10/22/2022, 08:34:56\n"
          ]
        }
      ]
    },
    {
      "cell_type": "code",
      "source": [
        "from datetime import datetime\n",
        "now = datetime.now() \n",
        "print(now)"
      ],
      "metadata": {
        "colab": {
          "base_uri": "https://localhost:8080/"
        },
        "id": "D7R5qvop1wR3",
        "outputId": "ea985607-b809-489d-daad-85e04467f2ef"
      },
      "execution_count": 118,
      "outputs": [
        {
          "output_type": "stream",
          "name": "stdout",
          "text": [
            "2022-10-22 08:37:30.467985\n"
          ]
        }
      ]
    },
    {
      "cell_type": "code",
      "source": [
        "print(gvr.strftime(\"%a, %b, %d, %y\"))"
      ],
      "metadata": {
        "colab": {
          "base_uri": "https://localhost:8080/"
        },
        "id": "RqIPj6ki11DH",
        "outputId": "8a7d527e-1063-49a9-dbf4-65a60c8fb7fe"
      },
      "execution_count": 122,
      "outputs": [
        {
          "output_type": "stream",
          "name": "stdout",
          "text": [
            "Wed, Jan, 30, 80\n"
          ]
        }
      ]
    },
    {
      "cell_type": "code",
      "source": [
        "print(gvr.strftime(\"%A, %B, %D, %Y\"))"
      ],
      "metadata": {
        "colab": {
          "base_uri": "https://localhost:8080/"
        },
        "id": "ZXLJpIYg1_5p",
        "outputId": "d76b3485-d46b-455a-93ee-24b17b50332e"
      },
      "execution_count": 123,
      "outputs": [
        {
          "output_type": "stream",
          "name": "stdout",
          "text": [
            "Wednesday, January, 01/30/80, 1980\n"
          ]
        }
      ]
    },
    {
      "cell_type": "code",
      "source": [
        "print(gvr.strftime(\"%A, %B, %d, %Y\"))"
      ],
      "metadata": {
        "colab": {
          "base_uri": "https://localhost:8080/"
        },
        "id": "l5kFrpsb2bwL",
        "outputId": "13b05d62-9a3b-4c8a-cbaf-a41aa4e798d3"
      },
      "execution_count": 124,
      "outputs": [
        {
          "output_type": "stream",
          "name": "stdout",
          "text": [
            "Wednesday, January, 30, 1980\n"
          ]
        }
      ]
    },
    {
      "cell_type": "code",
      "source": [
        "mess = \"Ataturk was born {: %a, %B, %d, %y}.\"\n",
        "print(mess.format(gvr))"
      ],
      "metadata": {
        "colab": {
          "base_uri": "https://localhost:8080/"
        },
        "id": "xx8K6h2g2giK",
        "outputId": "158df5d5-d760-46b2-9182-fae03ded156d"
      },
      "execution_count": 132,
      "outputs": [
        {
          "output_type": "stream",
          "name": "stdout",
          "text": [
            "Ataturk was born  Wed, January, 30, 80.\n"
          ]
        }
      ]
    },
    {
      "cell_type": "code",
      "source": [
        "now= datetime.today()\n",
        "now"
      ],
      "metadata": {
        "colab": {
          "base_uri": "https://localhost:8080/"
        },
        "id": "a_tkT7fY29Pq",
        "outputId": "e1f093ea-9fde-4cae-811c-e38456c256b3"
      },
      "execution_count": 136,
      "outputs": [
        {
          "output_type": "execute_result",
          "data": {
            "text/plain": [
              "datetime.datetime(2022, 10, 22, 8, 46, 24, 997387)"
            ]
          },
          "metadata": {},
          "execution_count": 136
        }
      ]
    },
    {
      "cell_type": "code",
      "source": [
        "now.microsecond"
      ],
      "metadata": {
        "colab": {
          "base_uri": "https://localhost:8080/"
        },
        "id": "pfO01X3833Hr",
        "outputId": "6963610d-64dc-423b-a784-07b608438b39"
      },
      "execution_count": 138,
      "outputs": [
        {
          "output_type": "execute_result",
          "data": {
            "text/plain": [
              "997387"
            ]
          },
          "metadata": {},
          "execution_count": 138
        }
      ]
    },
    {
      "cell_type": "code",
      "source": [
        "republic = \"29/10/1923\""
      ],
      "metadata": {
        "id": "5ZEUvT-w377I"
      },
      "execution_count": 145,
      "outputs": []
    },
    {
      "cell_type": "code",
      "source": [
        "republic = datetime.strptime(republic, \"%d/%m/%Y\")\n",
        "print(republic)"
      ],
      "metadata": {
        "colab": {
          "base_uri": "https://localhost:8080/"
        },
        "id": "uolGtUWZ4KB5",
        "outputId": "21e1b7ce-5e6c-4d2e-a0e7-b2278bd80b0a"
      },
      "execution_count": 147,
      "outputs": [
        {
          "output_type": "stream",
          "name": "stdout",
          "text": [
            "1923-10-29 00:00:00\n"
          ]
        }
      ]
    },
    {
      "cell_type": "code",
      "source": [
        "type(republic)"
      ],
      "metadata": {
        "colab": {
          "base_uri": "https://localhost:8080/"
        },
        "id": "IKperZ234ZHa",
        "outputId": "fb5894c6-427a-42e1-ae3d-0337103168a9"
      },
      "execution_count": 148,
      "outputs": [
        {
          "output_type": "execute_result",
          "data": {
            "text/plain": [
              "datetime.datetime"
            ]
          },
          "metadata": {},
          "execution_count": 148
        }
      ]
    },
    {
      "cell_type": "markdown",
      "source": [
        "https://strftime.org/"
      ],
      "metadata": {
        "id": "0HE197P85D8G"
      }
    },
    {
      "cell_type": "code",
      "source": [
        "i = 1\n",
        "while i < 6:\n",
        "  print(i)\n",
        "  break \n",
        " "
      ],
      "metadata": {
        "colab": {
          "base_uri": "https://localhost:8080/"
        },
        "id": "kvg2UVHJ46Zo",
        "outputId": "6c8da748-8d42-4abf-dc94-95457a93cc2b"
      },
      "execution_count": 155,
      "outputs": [
        {
          "output_type": "stream",
          "name": "stdout",
          "text": [
            "1\n"
          ]
        }
      ]
    },
    {
      "cell_type": "code",
      "source": [
        "i = 1\n",
        "while i < 6:\n",
        "  print(i)\n",
        "  if i == 3:\n",
        "    break\n",
        "  i = i+ 1"
      ],
      "metadata": {
        "colab": {
          "base_uri": "https://localhost:8080/"
        },
        "id": "OX9CSIle7BoJ",
        "outputId": "a8c7ebf1-bac6-441c-f4c2-abc106a0303b"
      },
      "execution_count": 164,
      "outputs": [
        {
          "output_type": "stream",
          "name": "stdout",
          "text": [
            "1\n",
            "2\n",
            "3\n"
          ]
        }
      ]
    },
    {
      "cell_type": "code",
      "source": [
        "fruits = [\"apple\", \"banana\", \"cherry\"]\n",
        "for x in fruits:\n",
        "  # print(x)\n",
        "  if x == \"banana\":\n",
        "    print(x)"
      ],
      "metadata": {
        "colab": {
          "base_uri": "https://localhost:8080/"
        },
        "id": "Yhyf_phd7IbZ",
        "outputId": "079f4844-d303-41f9-8821-6dba1d68b56f"
      },
      "execution_count": 173,
      "outputs": [
        {
          "output_type": "stream",
          "name": "stdout",
          "text": [
            "banana\n"
          ]
        }
      ]
    },
    {
      "cell_type": "code",
      "source": [
        "fruits = [\"apple\", \"banana\", \"cherry\"]\n",
        "for x in fruits:\n",
        "  \n",
        "  # print(x)\n",
        "  if x == \"banana\":\n",
        "    break\n",
        "  print(x)\n"
      ],
      "metadata": {
        "colab": {
          "base_uri": "https://localhost:8080/"
        },
        "id": "1K0asM9S7RuZ",
        "outputId": "dd7fe6da-3cae-4afd-a264-2abe8a317c99"
      },
      "execution_count": 186,
      "outputs": [
        {
          "output_type": "stream",
          "name": "stdout",
          "text": [
            "apple\n"
          ]
        }
      ]
    },
    {
      "cell_type": "code",
      "source": [
        "fruits = [\"apple\", \"banana\", \"cherry\"]\n",
        "for x in fruits:\n",
        "  if x == \"banana\":\n",
        "    continue\n",
        "  print(x)"
      ],
      "metadata": {
        "colab": {
          "base_uri": "https://localhost:8080/"
        },
        "id": "_IWWEoZv7so4",
        "outputId": "f38d814a-92ef-41c3-92c2-8d35d7611e63"
      },
      "execution_count": 185,
      "outputs": [
        {
          "output_type": "stream",
          "name": "stdout",
          "text": [
            "apple\n",
            "cherry\n"
          ]
        }
      ]
    },
    {
      "cell_type": "code",
      "source": [
        "a = 200\n",
        "b = 33\n",
        "if b > a:\n",
        "  print(\"b is greater than a\")\n",
        "elif a == b:\n",
        "  print(\"a and b are equal\")\n",
        "else:\n",
        "  print(\"a is greater than b\")"
      ],
      "metadata": {
        "colab": {
          "base_uri": "https://localhost:8080/"
        },
        "id": "nHaN7dA98IjK",
        "outputId": "c12e22cb-6e74-46af-82a7-2096d6de30c5"
      },
      "execution_count": 187,
      "outputs": [
        {
          "output_type": "stream",
          "name": "stdout",
          "text": [
            "a is greater than b\n"
          ]
        }
      ]
    },
    {
      "cell_type": "code",
      "source": [
        "def my_function(fname):\n",
        "  print(fname + \" Kaya\")\n",
        "\n",
        "my_function(\"Emil\")\n",
        "my_function(\"Tobias\")\n",
        "my_function(\"Linus\")\n",
        "my_function(\"Ömer\")"
      ],
      "metadata": {
        "colab": {
          "base_uri": "https://localhost:8080/"
        },
        "id": "rQ8s94Zo8UcX",
        "outputId": "75a67c2e-4667-4db8-da78-5661b3daa672"
      },
      "execution_count": 190,
      "outputs": [
        {
          "output_type": "stream",
          "name": "stdout",
          "text": [
            "Emil Kaya\n",
            "Tobias Kaya\n",
            "Linus Kaya\n",
            "Ömer Kaya\n"
          ]
        }
      ]
    },
    {
      "cell_type": "code",
      "source": [
        "def my_function(fname, lname=\"Can\"):\n",
        "  print(fname + \" \" + lname)\n",
        "\n",
        "my_function(\"Emil\", \"Refsnes\")\n",
        "my_function(\"Kamil\", \"Refsnes\")\n",
        "my_function(\"Salih\", \"Refsnes\")\n",
        "my_function(\"Leyla\")"
      ],
      "metadata": {
        "colab": {
          "base_uri": "https://localhost:8080/"
        },
        "id": "_5I1o3_e8jL6",
        "outputId": "f84720d2-a990-4fb2-e87f-4a40ba6be279"
      },
      "execution_count": 193,
      "outputs": [
        {
          "output_type": "stream",
          "name": "stdout",
          "text": [
            "Emil Refsnes\n",
            "Kamil Refsnes\n",
            "Salih Refsnes\n",
            "Leyla Can\n"
          ]
        }
      ]
    },
    {
      "cell_type": "code",
      "source": [
        "def my_function(*kids):\n",
        "  return \"The youngest child is \" + kids[4]\n",
        "\n",
        "  \n",
        "\n",
        "my_function(\"Emil\", \"Tobias\", \"Linus\",\"Ömer\", \"Tarık\", \"Leyla\")"
      ],
      "metadata": {
        "colab": {
          "base_uri": "https://localhost:8080/",
          "height": 35
        },
        "id": "ePrtUzSm8wzJ",
        "outputId": "9a0926ed-5fc7-43c3-b1bd-8a5c49a8a6ef"
      },
      "execution_count": 198,
      "outputs": [
        {
          "output_type": "execute_result",
          "data": {
            "text/plain": [
              "'The youngest child is Tarık'"
            ],
            "application/vnd.google.colaboratory.intrinsic+json": {
              "type": "string"
            }
          },
          "metadata": {},
          "execution_count": 198
        }
      ]
    },
    {
      "cell_type": "code",
      "source": [
        "import math"
      ],
      "metadata": {
        "id": "rb3SfIYV9Cm8"
      },
      "execution_count": 199,
      "outputs": []
    },
    {
      "cell_type": "code",
      "source": [
        "math.pi"
      ],
      "metadata": {
        "colab": {
          "base_uri": "https://localhost:8080/"
        },
        "id": "uYI1SqJ89a9e",
        "outputId": "9f6af063-2274-46c8-ca15-010279e7f110"
      },
      "execution_count": 200,
      "outputs": [
        {
          "output_type": "execute_result",
          "data": {
            "text/plain": [
              "3.141592653589793"
            ]
          },
          "metadata": {},
          "execution_count": 200
        }
      ]
    },
    {
      "cell_type": "code",
      "source": [
        "def volume(r):\n",
        "  v = (4/3) * math.pi* r**3\n",
        "  return v\n",
        "\n",
        "#calling funciton\n",
        "volume(2)"
      ],
      "metadata": {
        "colab": {
          "base_uri": "https://localhost:8080/"
        },
        "id": "iPQnFb4L9buq",
        "outputId": "ac3d7019-ce6a-4e30-ed12-71d6518e8517"
      },
      "execution_count": 207,
      "outputs": [
        {
          "output_type": "execute_result",
          "data": {
            "text/plain": [
              "33.510321638291124"
            ]
          },
          "metadata": {},
          "execution_count": 207
        }
      ]
    },
    {
      "cell_type": "code",
      "source": [
        "volume(1)"
      ],
      "metadata": {
        "colab": {
          "base_uri": "https://localhost:8080/"
        },
        "id": "aGwdCjT-913u",
        "outputId": "a2ee99ac-3395-4aab-8355-44035a125b4f"
      },
      "execution_count": 206,
      "outputs": [
        {
          "output_type": "execute_result",
          "data": {
            "text/plain": [
              "4.1887902047863905"
            ]
          },
          "metadata": {},
          "execution_count": 206
        }
      ]
    },
    {
      "cell_type": "code",
      "source": [
        "volume(3)"
      ],
      "metadata": {
        "colab": {
          "base_uri": "https://localhost:8080/"
        },
        "id": "thLojfcN99s7",
        "outputId": "7ba43deb-ad64-4bc6-c7d0-fdc36e996d02"
      },
      "execution_count": 203,
      "outputs": [
        {
          "output_type": "execute_result",
          "data": {
            "text/plain": [
              "113.09733552923254"
            ]
          },
          "metadata": {},
          "execution_count": 203
        }
      ]
    },
    {
      "cell_type": "code",
      "source": [
        "volume(4)"
      ],
      "metadata": {
        "colab": {
          "base_uri": "https://localhost:8080/"
        },
        "id": "DZdS0kxF9_aL",
        "outputId": "30195443-d157-4792-840b-b0e7526db364"
      },
      "execution_count": 204,
      "outputs": [
        {
          "output_type": "execute_result",
          "data": {
            "text/plain": [
              "268.082573106329"
            ]
          },
          "metadata": {},
          "execution_count": 204
        }
      ]
    },
    {
      "cell_type": "code",
      "source": [
        "def my_function(**kid):\n",
        "  print(\"His last name is \" + kid[\"lname\"])\n",
        "\n",
        "\n",
        "my_function(fname = \"Tobias\", lname = \"kaya\")"
      ],
      "metadata": {
        "colab": {
          "base_uri": "https://localhost:8080/"
        },
        "id": "YWYi0pYZ-AyZ",
        "outputId": "da39e262-3448-4add-cf39-433ccd3ea0be"
      },
      "execution_count": 213,
      "outputs": [
        {
          "output_type": "stream",
          "name": "stdout",
          "text": [
            "His last name is kaya\n"
          ]
        }
      ]
    },
    {
      "cell_type": "code",
      "source": [
        "def myFun(**kwargs):\n",
        "\tfor key, value in kwargs.items():\n",
        "\t\tprint(\"%s == %s\" % (key, value))\n",
        "\n",
        "\n",
        "# Driver code\n",
        "myFun(first='Geeks', mid='for', last='Geeks', famname='Geeks', age=36,status='Married',fname = \"Tobias\", lname = \"kaya\")\n"
      ],
      "metadata": {
        "colab": {
          "base_uri": "https://localhost:8080/"
        },
        "id": "XImPw5wU-fcM",
        "outputId": "496b1513-3d43-436b-f0b5-fc38a79d3c64"
      },
      "execution_count": 227,
      "outputs": [
        {
          "output_type": "stream",
          "name": "stdout",
          "text": [
            "first == Geeks\n",
            "mid == for\n",
            "last == Geeks\n",
            "famname == Geeks\n",
            "age == 36\n",
            "status == Married\n",
            "fname == Tobias\n",
            "lname == kaya\n"
          ]
        }
      ]
    },
    {
      "cell_type": "code",
      "source": [
        "def triangle(b, h):\n",
        "  return 0.5*b *h \n",
        "\n",
        "triangle(3,6)"
      ],
      "metadata": {
        "colab": {
          "base_uri": "https://localhost:8080/"
        },
        "id": "8Ki7Qsu9_D66",
        "outputId": "3fb44f1a-2f6e-4834-d8ea-e27eae69d07d"
      },
      "execution_count": 232,
      "outputs": [
        {
          "output_type": "execute_result",
          "data": {
            "text/plain": [
              "9.0"
            ]
          },
          "metadata": {},
          "execution_count": 232
        }
      ]
    },
    {
      "cell_type": "code",
      "source": [
        "# converter a lenthg feet cm\n",
        "def cm(feet=0, inches=0):\n",
        "  inch_to_cm=inches * 2.54\n",
        "  feet_to_cm = 12*2.54\n",
        "  return inch_to_cm + feet_to_cm\n",
        "\n",
        "\n",
        "cm(feet=5)"
      ],
      "metadata": {
        "colab": {
          "base_uri": "https://localhost:8080/"
        },
        "id": "AgrfjE7EAexA",
        "outputId": "c8c1a954-f4a1-48e8-ae4c-a43bd7a3fae1"
      },
      "execution_count": 242,
      "outputs": [
        {
          "output_type": "execute_result",
          "data": {
            "text/plain": [
              "30.48"
            ]
          },
          "metadata": {},
          "execution_count": 242
        }
      ]
    },
    {
      "cell_type": "code",
      "source": [
        "cm(feet=0, inches=2)"
      ],
      "metadata": {
        "colab": {
          "base_uri": "https://localhost:8080/"
        },
        "id": "iqoCUA73BW7-",
        "outputId": "d2ae62a3-235f-43cd-dd57-b793d7ec7d95"
      },
      "execution_count": 245,
      "outputs": [
        {
          "output_type": "execute_result",
          "data": {
            "text/plain": [
              "35.56"
            ]
          },
          "metadata": {},
          "execution_count": 245
        }
      ]
    },
    {
      "cell_type": "code",
      "source": [
        "# converter a lenthg feet cm\n",
        "def cm(feet):\n",
        "  feet_to_cm = feet * 2.54\n",
        "  return feet_to_cm\n",
        "\n",
        "\n",
        "cm(feet=100)"
      ],
      "metadata": {
        "colab": {
          "base_uri": "https://localhost:8080/"
        },
        "id": "vYg08VLqBy7v",
        "outputId": "4a5efb30-50c6-4813-d54f-87a5b24f2098"
      },
      "execution_count": 255,
      "outputs": [
        {
          "output_type": "execute_result",
          "data": {
            "text/plain": [
              "254.0"
            ]
          },
          "metadata": {},
          "execution_count": 255
        }
      ]
    },
    {
      "cell_type": "markdown",
      "source": [
        "Classes"
      ],
      "metadata": {
        "id": "TZHvKS4qCswA"
      }
    },
    {
      "cell_type": "code",
      "source": [
        "class Person:\n",
        "\n",
        "  def __init__(self, name, age):\n",
        "    self.name = name\n",
        "    self.age = age\n",
        "\n",
        "\n",
        "p1 = Person(\"John\", 36)\n",
        "p2 = Person(\"Cemil\",100)\n",
        "\n",
        "print(p1.name)\n",
        "print(p1.age)"
      ],
      "metadata": {
        "colab": {
          "base_uri": "https://localhost:8080/"
        },
        "id": "NaMieoxKCCig",
        "outputId": "71eb1023-8fe6-4ae6-e3e6-644c5692591e"
      },
      "execution_count": 257,
      "outputs": [
        {
          "output_type": "stream",
          "name": "stdout",
          "text": [
            "John\n",
            "36\n"
          ]
        }
      ]
    },
    {
      "cell_type": "code",
      "source": [
        "print(p2)\n",
        "print(p2.name)\n",
        "print(p2.age)"
      ],
      "metadata": {
        "colab": {
          "base_uri": "https://localhost:8080/"
        },
        "id": "gOHyEJhCCvxx",
        "outputId": "06db9128-0eaa-4ca0-fcc6-62e166ef9617"
      },
      "execution_count": 259,
      "outputs": [
        {
          "output_type": "stream",
          "name": "stdout",
          "text": [
            "<__main__.Person object at 0x7f10b5295410>\n",
            "Cemil\n",
            "100\n"
          ]
        }
      ]
    },
    {
      "cell_type": "code",
      "source": [
        "p2.name=\"Ahmet\""
      ],
      "metadata": {
        "id": "JhEF5JdCC7Mh"
      },
      "execution_count": 260,
      "outputs": []
    },
    {
      "cell_type": "code",
      "source": [
        "p2.name"
      ],
      "metadata": {
        "colab": {
          "base_uri": "https://localhost:8080/",
          "height": 35
        },
        "id": "DpOAkWhjDBWY",
        "outputId": "2f549b33-e96a-4582-86d0-4f86a6343f34"
      },
      "execution_count": 261,
      "outputs": [
        {
          "output_type": "execute_result",
          "data": {
            "text/plain": [
              "'Ahmet'"
            ],
            "application/vnd.google.colaboratory.intrinsic+json": {
              "type": "string"
            }
          },
          "metadata": {},
          "execution_count": 261
        }
      ]
    },
    {
      "cell_type": "code",
      "source": [
        "class User:\n",
        "  pass\n",
        "\n",
        "\n",
        "\n",
        "user1=User()\n",
        "user1.first_name=\"Dave\"\n",
        "user1.lastName=\"Braun\"\n",
        "\n",
        "user2=User()\n",
        "user2.first_name=\"Mustafa\"\n",
        "user2.lastName=\"Kaya\"\n",
        "\n",
        "\n",
        "print(user1.first_name,user1.lastName)\n",
        "print(user2.first_name,user2.lastName)"
      ],
      "metadata": {
        "colab": {
          "base_uri": "https://localhost:8080/"
        },
        "id": "wkT9GUUXDDKp",
        "outputId": "025893ae-2d7b-4121-cc91-0e308a7e0d35"
      },
      "execution_count": 268,
      "outputs": [
        {
          "output_type": "stream",
          "name": "stdout",
          "text": [
            "Dave Braun\n",
            "Mustafa Kaya\n"
          ]
        }
      ]
    },
    {
      "cell_type": "code",
      "source": [
        "from datetime import datetime, date"
      ],
      "metadata": {
        "id": "nT9kyywbHmbh"
      },
      "execution_count": 283,
      "outputs": []
    },
    {
      "cell_type": "code",
      "source": [
        "class Users:\n",
        "  def __init__(self,fname,bday):\n",
        "    self.name=fname\n",
        "    self.birthday=bday #yyyymmdd\n",
        "\n",
        "\n",
        "  def age(self):\n",
        "    today= datetime.date(2001,10,12) #yyyymmdd\n",
        "    yyyy = int(self.birthday[0:4])\n",
        "    mm  =  int(self.birthday[4:6])\n",
        "    dd    =  int(self.birthday[6:8])\n",
        "\n",
        "    dob   =  datetime.date(yyyy,mm,dd) #this is format\n",
        "    ageindays = (today - dob).days\n",
        "    ageinyears = ageindays / 365\n",
        "    return int(ageinyears)\n",
        "\n",
        "\n",
        "\n",
        "\n",
        "user3=Users(\"Ali kaya\",\"2001,10,12\")\n",
        "print(user3.name)\n",
        "print(user3.birthday)\n",
        "\n",
        "\n",
        "print(user3.age())\n"
      ],
      "metadata": {
        "colab": {
          "base_uri": "https://localhost:8080/",
          "height": 374
        },
        "id": "LmzuE2iiDUHE",
        "outputId": "9eb6db8c-3867-45b5-833f-3b84de9168c6"
      },
      "execution_count": 296,
      "outputs": [
        {
          "output_type": "stream",
          "name": "stdout",
          "text": [
            "Ali kaya\n",
            "2001,10,12\n"
          ]
        },
        {
          "output_type": "error",
          "ename": "TypeError",
          "evalue": "ignored",
          "traceback": [
            "\u001b[0;31m---------------------------------------------------------------------------\u001b[0m",
            "\u001b[0;31mTypeError\u001b[0m                                 Traceback (most recent call last)",
            "\u001b[0;32m<ipython-input-296-00b5f4dbafcf>\u001b[0m in \u001b[0;36m<module>\u001b[0;34m\u001b[0m\n\u001b[1;32m     24\u001b[0m \u001b[0;34m\u001b[0m\u001b[0m\n\u001b[1;32m     25\u001b[0m \u001b[0;34m\u001b[0m\u001b[0m\n\u001b[0;32m---> 26\u001b[0;31m \u001b[0mprint\u001b[0m\u001b[0;34m(\u001b[0m\u001b[0muser3\u001b[0m\u001b[0;34m.\u001b[0m\u001b[0mage\u001b[0m\u001b[0;34m(\u001b[0m\u001b[0;34m)\u001b[0m\u001b[0;34m)\u001b[0m\u001b[0;34m\u001b[0m\u001b[0;34m\u001b[0m\u001b[0m\n\u001b[0m",
            "\u001b[0;32m<ipython-input-296-00b5f4dbafcf>\u001b[0m in \u001b[0;36mage\u001b[0;34m(self)\u001b[0m\n\u001b[1;32m      6\u001b[0m \u001b[0;34m\u001b[0m\u001b[0m\n\u001b[1;32m      7\u001b[0m   \u001b[0;32mdef\u001b[0m \u001b[0mage\u001b[0m\u001b[0;34m(\u001b[0m\u001b[0mself\u001b[0m\u001b[0;34m)\u001b[0m\u001b[0;34m:\u001b[0m\u001b[0;34m\u001b[0m\u001b[0;34m\u001b[0m\u001b[0m\n\u001b[0;32m----> 8\u001b[0;31m     \u001b[0mtoday\u001b[0m\u001b[0;34m=\u001b[0m \u001b[0mdatetime\u001b[0m\u001b[0;34m.\u001b[0m\u001b[0mdate\u001b[0m\u001b[0;34m(\u001b[0m\u001b[0;36m2001\u001b[0m\u001b[0;34m,\u001b[0m\u001b[0;36m10\u001b[0m\u001b[0;34m,\u001b[0m\u001b[0;36m12\u001b[0m\u001b[0;34m)\u001b[0m \u001b[0;31m#yyyymmdd\u001b[0m\u001b[0;34m\u001b[0m\u001b[0;34m\u001b[0m\u001b[0m\n\u001b[0m\u001b[1;32m      9\u001b[0m     \u001b[0myyyy\u001b[0m \u001b[0;34m=\u001b[0m \u001b[0mstr\u001b[0m\u001b[0;34m(\u001b[0m\u001b[0mself\u001b[0m\u001b[0;34m.\u001b[0m\u001b[0mbirthday\u001b[0m\u001b[0;34m[\u001b[0m\u001b[0;36m0\u001b[0m\u001b[0;34m:\u001b[0m\u001b[0;36m4\u001b[0m\u001b[0;34m]\u001b[0m\u001b[0;34m)\u001b[0m\u001b[0;34m\u001b[0m\u001b[0;34m\u001b[0m\u001b[0m\n\u001b[1;32m     10\u001b[0m     \u001b[0mmm\u001b[0m  \u001b[0;34m=\u001b[0m  \u001b[0mstr\u001b[0m\u001b[0;34m(\u001b[0m\u001b[0mself\u001b[0m\u001b[0;34m.\u001b[0m\u001b[0mbirthday\u001b[0m\u001b[0;34m[\u001b[0m\u001b[0;36m4\u001b[0m\u001b[0;34m:\u001b[0m\u001b[0;36m6\u001b[0m\u001b[0;34m]\u001b[0m\u001b[0;34m)\u001b[0m\u001b[0;34m\u001b[0m\u001b[0;34m\u001b[0m\u001b[0m\n",
            "\u001b[0;31mTypeError\u001b[0m: descriptor 'date' requires a 'datetime.datetime' object but received a 'int'"
          ]
        }
      ]
    },
    {
      "cell_type": "code",
      "source": [
        "help(user3)"
      ],
      "metadata": {
        "colab": {
          "base_uri": "https://localhost:8080/"
        },
        "id": "B60TJOWgEgP1",
        "outputId": "01f159c2-fe1d-45d2-f77e-17b1dbc36ef5"
      },
      "execution_count": 297,
      "outputs": [
        {
          "output_type": "stream",
          "name": "stdout",
          "text": [
            "Help on Users in module __main__ object:\n",
            "\n",
            "class Users(builtins.object)\n",
            " |  Users(fname, bday)\n",
            " |  \n",
            " |  Methods defined here:\n",
            " |  \n",
            " |  __init__(self, fname, bday)\n",
            " |      Initialize self.  See help(type(self)) for accurate signature.\n",
            " |  \n",
            " |  age(self)\n",
            " |  \n",
            " |  ----------------------------------------------------------------------\n",
            " |  Data descriptors defined here:\n",
            " |  \n",
            " |  __dict__\n",
            " |      dictionary for instance variables (if defined)\n",
            " |  \n",
            " |  __weakref__\n",
            " |      list of weak references to the object (if defined)\n",
            "\n"
          ]
        }
      ]
    },
    {
      "cell_type": "code",
      "source": [],
      "metadata": {
        "id": "_ciPEPGSJM7K"
      },
      "execution_count": null,
      "outputs": []
    }
  ]
}